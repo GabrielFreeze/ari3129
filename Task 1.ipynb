{
 "cells": [
  {
   "cell_type": "code",
   "execution_count": 1,
   "id": "dea97683",
   "metadata": {
    "ExecuteTime": {
     "end_time": "2022-12-08T18:00:52.050142Z",
     "start_time": "2022-12-08T18:00:48.719123Z"
    }
   },
   "outputs": [],
   "source": [
    "import os\n",
    "import cv2\n",
    "import numpy as np\n",
    "from tensorflow import keras\n",
    "import matplotlib.pyplot as plt\n",
    "from sklearn.metrics import accuracy_score\n",
    "from keras.applications.imagenet_utils import preprocess_input, decode_predictions"
   ]
  },
  {
   "cell_type": "code",
   "execution_count": 2,
   "id": "e8c8be0c",
   "metadata": {
    "ExecuteTime": {
     "end_time": "2022-12-08T18:00:54.541142Z",
     "start_time": "2022-12-08T18:00:52.051145Z"
    }
   },
   "outputs": [],
   "source": [
    "model1 = keras.applications.ResNet50(include_top=True,\n",
    "                                     weights=\"imagenet\",\n",
    "                                     input_tensor=None,\n",
    "                                     input_shape=None,\n",
    "                                     pooling=None,\n",
    "                                     classes=1000)\n",
    "\n",
    "model2 = keras.applications.Xception(include_top=True,\n",
    "                                     weights=\"imagenet\",\n",
    "                                     input_tensor=None,\n",
    "                                     input_shape=None,\n",
    "                                     pooling=None,\n",
    "                                     classes=1000,\n",
    "                                     classifier_activation=\"softmax\")\n"
   ]
  },
  {
   "cell_type": "code",
   "execution_count": 3,
   "id": "7d170aa0",
   "metadata": {
    "ExecuteTime": {
     "end_time": "2022-12-08T18:00:54.968142Z",
     "start_time": "2022-12-08T18:00:54.543146Z"
    }
   },
   "outputs": [],
   "source": [
    "#Load images\n",
    "\n",
    "model1_cranes = []\n",
    "model2_cranes = []\n",
    "\n",
    "for img in os.listdir(os.path.join('data','task1')):\n",
    "    img = cv2.imread(os.path.join('data','task1',img))\n",
    "    \n",
    "    img_1 = cv2.resize(img, (224,224))\n",
    "    img_1 = np.expand_dims(img_1,axis=0)\n",
    "    model1_cranes.append(img_1)\n",
    "    \n",
    "    img_2 = cv2.resize(img, (299,299))\n",
    "    img_2 = np.expand_dims(img_2,axis=0)\n",
    "    model2_cranes.append(img_2)"
   ]
  },
  {
   "cell_type": "code",
   "execution_count": 4,
   "id": "984cab25",
   "metadata": {
    "ExecuteTime": {
     "end_time": "2022-12-08T18:01:13.466142Z",
     "start_time": "2022-12-08T18:00:54.969144Z"
    }
   },
   "outputs": [
    {
     "name": "stdout",
     "output_type": "stream",
     "text": [
      "65\r"
     ]
    }
   ],
   "source": [
    "model1_predicted = []\n",
    "model2_predicted = []\n",
    "actual = 'plane'\n",
    "\n",
    "for i,img in enumerate(model1_cranes):\n",
    "    print(i,end='\\r')\n",
    "    probs = model1.predict(img, verbose=0)    \n",
    "    model1_predicted.append(decode_predictions(probs)[0][0][1])\n",
    "    \n",
    "for i,img in enumerate(model2_cranes):\n",
    "    print(i,end='\\r')\n",
    "    probs = model2.predict(img, verbose=0)    \n",
    "    model2_predicted.append(decode_predictions(probs)[0][0][1])\n",
    "    "
   ]
  },
  {
   "cell_type": "code",
   "execution_count": 6,
   "id": "1efeda2d",
   "metadata": {
    "ExecuteTime": {
     "end_time": "2022-12-08T18:01:29.282540Z",
     "start_time": "2022-12-08T18:01:29.263430Z"
    }
   },
   "outputs": [
    {
     "name": "stdout",
     "output_type": "stream",
     "text": [
      "ResNet Accuracy 0.00%\n",
      "Xception Accuracy 0.00%\n"
     ]
    }
   ],
   "source": [
    "accuracy_1 = accuracy_score(model1_predicted,[actual]*len(model1_predicted))\n",
    "accuracy_2 = accuracy_score(model2_predicted,[actual]*len(model2_predicted))\n",
    "\n",
    "print(f'ResNet Accuracy {accuracy_1*100:.2f}%')\n",
    "print(f'Xception Accuracy {accuracy_2*100:.2f}%')"
   ]
  },
  {
   "cell_type": "code",
   "execution_count": 8,
   "id": "21cdf1c5",
   "metadata": {
    "ExecuteTime": {
     "end_time": "2022-12-08T18:01:37.376237Z",
     "start_time": "2022-12-08T18:01:37.357056Z"
    }
   },
   "outputs": [
    {
     "data": {
      "text/plain": [
       "['airliner',\n",
       " 'airliner',\n",
       " 'space_shuttle',\n",
       " 'airliner',\n",
       " 'airliner',\n",
       " 'pirate',\n",
       " 'airliner',\n",
       " 'airliner',\n",
       " 'airliner',\n",
       " 'airliner',\n",
       " 'airliner',\n",
       " 'airliner',\n",
       " 'airliner',\n",
       " 'reel',\n",
       " 'airliner',\n",
       " 'airliner',\n",
       " 'airliner',\n",
       " 'airliner',\n",
       " 'airliner',\n",
       " 'airliner',\n",
       " 'airliner',\n",
       " 'airliner',\n",
       " 'airliner',\n",
       " 'warplane',\n",
       " 'airliner',\n",
       " 'airliner',\n",
       " 'space_shuttle',\n",
       " 'airliner',\n",
       " 'airliner',\n",
       " 'airliner',\n",
       " 'airliner',\n",
       " 'airliner',\n",
       " 'airliner',\n",
       " 'airliner',\n",
       " 'airliner',\n",
       " 'airliner',\n",
       " 'airliner',\n",
       " 'airliner',\n",
       " 'airliner',\n",
       " 'airliner',\n",
       " 'airliner',\n",
       " 'airship',\n",
       " 'airliner',\n",
       " 'airliner',\n",
       " 'airliner',\n",
       " 'airliner',\n",
       " 'airliner',\n",
       " 'airliner',\n",
       " 'airliner',\n",
       " 'airliner',\n",
       " 'airliner',\n",
       " 'airliner',\n",
       " 'airliner',\n",
       " 'airliner',\n",
       " 'space_shuttle',\n",
       " 'airliner',\n",
       " 'airliner',\n",
       " 'airliner',\n",
       " 'airliner',\n",
       " 'airliner',\n",
       " 'airliner',\n",
       " 'airliner',\n",
       " 'airliner',\n",
       " 'airliner',\n",
       " 'airliner',\n",
       " 'airliner']"
      ]
     },
     "execution_count": 8,
     "metadata": {},
     "output_type": "execute_result"
    }
   ],
   "source": [
    "model1_predicted"
   ]
  }
 ],
 "metadata": {
  "kernelspec": {
   "display_name": "Python [conda env:root] *",
   "language": "python",
   "name": "conda-root-py"
  },
  "language_info": {
   "codemirror_mode": {
    "name": "ipython",
    "version": 3
   },
   "file_extension": ".py",
   "mimetype": "text/x-python",
   "name": "python",
   "nbconvert_exporter": "python",
   "pygments_lexer": "ipython3",
   "version": "3.9.7"
  },
  "toc": {
   "base_numbering": 1,
   "nav_menu": {},
   "number_sections": true,
   "sideBar": true,
   "skip_h1_title": false,
   "title_cell": "Table of Contents",
   "title_sidebar": "Contents",
   "toc_cell": false,
   "toc_position": {},
   "toc_section_display": true,
   "toc_window_display": false
  }
 },
 "nbformat": 4,
 "nbformat_minor": 5
}
